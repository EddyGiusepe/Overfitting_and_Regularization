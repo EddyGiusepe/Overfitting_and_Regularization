{
  "nbformat": 4,
  "nbformat_minor": 0,
  "metadata": {
    "colab": {
      "name": "Regularization_for_Overfitting.ipynb",
      "provenance": [],
      "collapsed_sections": [],
      "authorship_tag": "ABX9TyMnXe5m5uanxolmR7iZJaEA",
      "include_colab_link": true
    },
    "kernelspec": {
      "name": "python3",
      "display_name": "Python 3"
    },
    "language_info": {
      "name": "python"
    },
    "widgets": {
      "application/vnd.jupyter.widget-state+json": {
        "27df6e5981fc44e28f1a2b65a1f8d9f9": {
          "model_module": "@jupyter-widgets/controls",
          "model_name": "HBoxModel",
          "model_module_version": "1.5.0",
          "state": {
            "_dom_classes": [],
            "_model_module": "@jupyter-widgets/controls",
            "_model_module_version": "1.5.0",
            "_model_name": "HBoxModel",
            "_view_count": null,
            "_view_module": "@jupyter-widgets/controls",
            "_view_module_version": "1.5.0",
            "_view_name": "HBoxView",
            "box_style": "",
            "children": [
              "IPY_MODEL_b70b42435079444b83e2d24029c54c6d",
              "IPY_MODEL_538f24aa859d46d19458c7e9a1e8b12d",
              "IPY_MODEL_30719c56b7444b14a9614acd6e7f81ad"
            ],
            "layout": "IPY_MODEL_442f960c26d34dcbadfc47ab888bf126"
          }
        },
        "b70b42435079444b83e2d24029c54c6d": {
          "model_module": "@jupyter-widgets/controls",
          "model_name": "HTMLModel",
          "model_module_version": "1.5.0",
          "state": {
            "_dom_classes": [],
            "_model_module": "@jupyter-widgets/controls",
            "_model_module_version": "1.5.0",
            "_model_name": "HTMLModel",
            "_view_count": null,
            "_view_module": "@jupyter-widgets/controls",
            "_view_module_version": "1.5.0",
            "_view_name": "HTMLView",
            "description": "",
            "description_tooltip": null,
            "layout": "IPY_MODEL_bc275fce6bb94c7995462cd4e9f717b7",
            "placeholder": "​",
            "style": "IPY_MODEL_049a265447464944913ae14ea83cb740",
            "value": "100%"
          }
        },
        "538f24aa859d46d19458c7e9a1e8b12d": {
          "model_module": "@jupyter-widgets/controls",
          "model_name": "FloatProgressModel",
          "model_module_version": "1.5.0",
          "state": {
            "_dom_classes": [],
            "_model_module": "@jupyter-widgets/controls",
            "_model_module_version": "1.5.0",
            "_model_name": "FloatProgressModel",
            "_view_count": null,
            "_view_module": "@jupyter-widgets/controls",
            "_view_module_version": "1.5.0",
            "_view_name": "ProgressView",
            "bar_style": "success",
            "description": "",
            "description_tooltip": null,
            "layout": "IPY_MODEL_a90359c9787c462385ff9d36d7000c4e",
            "max": 170498071,
            "min": 0,
            "orientation": "horizontal",
            "style": "IPY_MODEL_f0d6daa3799e407893ef7570123dd3e1",
            "value": 170498071
          }
        },
        "30719c56b7444b14a9614acd6e7f81ad": {
          "model_module": "@jupyter-widgets/controls",
          "model_name": "HTMLModel",
          "model_module_version": "1.5.0",
          "state": {
            "_dom_classes": [],
            "_model_module": "@jupyter-widgets/controls",
            "_model_module_version": "1.5.0",
            "_model_name": "HTMLModel",
            "_view_count": null,
            "_view_module": "@jupyter-widgets/controls",
            "_view_module_version": "1.5.0",
            "_view_name": "HTMLView",
            "description": "",
            "description_tooltip": null,
            "layout": "IPY_MODEL_5bae0f943e534f69b0b4f1a63e6dc4b1",
            "placeholder": "​",
            "style": "IPY_MODEL_fbec4d8cad084f8986cdce127ff26902",
            "value": " 170498071/170498071 [00:02&lt;00:00, 84376377.03it/s]"
          }
        },
        "442f960c26d34dcbadfc47ab888bf126": {
          "model_module": "@jupyter-widgets/base",
          "model_name": "LayoutModel",
          "model_module_version": "1.2.0",
          "state": {
            "_model_module": "@jupyter-widgets/base",
            "_model_module_version": "1.2.0",
            "_model_name": "LayoutModel",
            "_view_count": null,
            "_view_module": "@jupyter-widgets/base",
            "_view_module_version": "1.2.0",
            "_view_name": "LayoutView",
            "align_content": null,
            "align_items": null,
            "align_self": null,
            "border": null,
            "bottom": null,
            "display": null,
            "flex": null,
            "flex_flow": null,
            "grid_area": null,
            "grid_auto_columns": null,
            "grid_auto_flow": null,
            "grid_auto_rows": null,
            "grid_column": null,
            "grid_gap": null,
            "grid_row": null,
            "grid_template_areas": null,
            "grid_template_columns": null,
            "grid_template_rows": null,
            "height": null,
            "justify_content": null,
            "justify_items": null,
            "left": null,
            "margin": null,
            "max_height": null,
            "max_width": null,
            "min_height": null,
            "min_width": null,
            "object_fit": null,
            "object_position": null,
            "order": null,
            "overflow": null,
            "overflow_x": null,
            "overflow_y": null,
            "padding": null,
            "right": null,
            "top": null,
            "visibility": null,
            "width": null
          }
        },
        "bc275fce6bb94c7995462cd4e9f717b7": {
          "model_module": "@jupyter-widgets/base",
          "model_name": "LayoutModel",
          "model_module_version": "1.2.0",
          "state": {
            "_model_module": "@jupyter-widgets/base",
            "_model_module_version": "1.2.0",
            "_model_name": "LayoutModel",
            "_view_count": null,
            "_view_module": "@jupyter-widgets/base",
            "_view_module_version": "1.2.0",
            "_view_name": "LayoutView",
            "align_content": null,
            "align_items": null,
            "align_self": null,
            "border": null,
            "bottom": null,
            "display": null,
            "flex": null,
            "flex_flow": null,
            "grid_area": null,
            "grid_auto_columns": null,
            "grid_auto_flow": null,
            "grid_auto_rows": null,
            "grid_column": null,
            "grid_gap": null,
            "grid_row": null,
            "grid_template_areas": null,
            "grid_template_columns": null,
            "grid_template_rows": null,
            "height": null,
            "justify_content": null,
            "justify_items": null,
            "left": null,
            "margin": null,
            "max_height": null,
            "max_width": null,
            "min_height": null,
            "min_width": null,
            "object_fit": null,
            "object_position": null,
            "order": null,
            "overflow": null,
            "overflow_x": null,
            "overflow_y": null,
            "padding": null,
            "right": null,
            "top": null,
            "visibility": null,
            "width": null
          }
        },
        "049a265447464944913ae14ea83cb740": {
          "model_module": "@jupyter-widgets/controls",
          "model_name": "DescriptionStyleModel",
          "model_module_version": "1.5.0",
          "state": {
            "_model_module": "@jupyter-widgets/controls",
            "_model_module_version": "1.5.0",
            "_model_name": "DescriptionStyleModel",
            "_view_count": null,
            "_view_module": "@jupyter-widgets/base",
            "_view_module_version": "1.2.0",
            "_view_name": "StyleView",
            "description_width": ""
          }
        },
        "a90359c9787c462385ff9d36d7000c4e": {
          "model_module": "@jupyter-widgets/base",
          "model_name": "LayoutModel",
          "model_module_version": "1.2.0",
          "state": {
            "_model_module": "@jupyter-widgets/base",
            "_model_module_version": "1.2.0",
            "_model_name": "LayoutModel",
            "_view_count": null,
            "_view_module": "@jupyter-widgets/base",
            "_view_module_version": "1.2.0",
            "_view_name": "LayoutView",
            "align_content": null,
            "align_items": null,
            "align_self": null,
            "border": null,
            "bottom": null,
            "display": null,
            "flex": null,
            "flex_flow": null,
            "grid_area": null,
            "grid_auto_columns": null,
            "grid_auto_flow": null,
            "grid_auto_rows": null,
            "grid_column": null,
            "grid_gap": null,
            "grid_row": null,
            "grid_template_areas": null,
            "grid_template_columns": null,
            "grid_template_rows": null,
            "height": null,
            "justify_content": null,
            "justify_items": null,
            "left": null,
            "margin": null,
            "max_height": null,
            "max_width": null,
            "min_height": null,
            "min_width": null,
            "object_fit": null,
            "object_position": null,
            "order": null,
            "overflow": null,
            "overflow_x": null,
            "overflow_y": null,
            "padding": null,
            "right": null,
            "top": null,
            "visibility": null,
            "width": null
          }
        },
        "f0d6daa3799e407893ef7570123dd3e1": {
          "model_module": "@jupyter-widgets/controls",
          "model_name": "ProgressStyleModel",
          "model_module_version": "1.5.0",
          "state": {
            "_model_module": "@jupyter-widgets/controls",
            "_model_module_version": "1.5.0",
            "_model_name": "ProgressStyleModel",
            "_view_count": null,
            "_view_module": "@jupyter-widgets/base",
            "_view_module_version": "1.2.0",
            "_view_name": "StyleView",
            "bar_color": null,
            "description_width": ""
          }
        },
        "5bae0f943e534f69b0b4f1a63e6dc4b1": {
          "model_module": "@jupyter-widgets/base",
          "model_name": "LayoutModel",
          "model_module_version": "1.2.0",
          "state": {
            "_model_module": "@jupyter-widgets/base",
            "_model_module_version": "1.2.0",
            "_model_name": "LayoutModel",
            "_view_count": null,
            "_view_module": "@jupyter-widgets/base",
            "_view_module_version": "1.2.0",
            "_view_name": "LayoutView",
            "align_content": null,
            "align_items": null,
            "align_self": null,
            "border": null,
            "bottom": null,
            "display": null,
            "flex": null,
            "flex_flow": null,
            "grid_area": null,
            "grid_auto_columns": null,
            "grid_auto_flow": null,
            "grid_auto_rows": null,
            "grid_column": null,
            "grid_gap": null,
            "grid_row": null,
            "grid_template_areas": null,
            "grid_template_columns": null,
            "grid_template_rows": null,
            "height": null,
            "justify_content": null,
            "justify_items": null,
            "left": null,
            "margin": null,
            "max_height": null,
            "max_width": null,
            "min_height": null,
            "min_width": null,
            "object_fit": null,
            "object_position": null,
            "order": null,
            "overflow": null,
            "overflow_x": null,
            "overflow_y": null,
            "padding": null,
            "right": null,
            "top": null,
            "visibility": null,
            "width": null
          }
        },
        "fbec4d8cad084f8986cdce127ff26902": {
          "model_module": "@jupyter-widgets/controls",
          "model_name": "DescriptionStyleModel",
          "model_module_version": "1.5.0",
          "state": {
            "_model_module": "@jupyter-widgets/controls",
            "_model_module_version": "1.5.0",
            "_model_name": "DescriptionStyleModel",
            "_view_count": null,
            "_view_module": "@jupyter-widgets/base",
            "_view_module_version": "1.2.0",
            "_view_name": "StyleView",
            "description_width": ""
          }
        }
      }
    }
  },
  "cells": [
    {
      "cell_type": "markdown",
      "metadata": {
        "id": "view-in-github",
        "colab_type": "text"
      },
      "source": [
        "<a href=\"https://colab.research.google.com/github/EddyGiusepe/Overfitting_and_Regularization/blob/main/Regularization_for_Overfitting.ipynb\" target=\"_parent\"><img src=\"https://colab.research.google.com/assets/colab-badge.svg\" alt=\"Open In Colab\"/></a>"
      ]
    },
    {
      "cell_type": "markdown",
      "source": [
        "<h2 align=\"center\">Overfitting e Regularização</h2>\n",
        "\n",
        "\n",
        "Data Scientist: Dr.Eddy Giusepe Chirinos Isidro"
      ],
      "metadata": {
        "id": "GIcvn1bEqW4o"
      }
    },
    {
      "cell_type": "markdown",
      "source": [
        "# Regularization"
      ],
      "metadata": {
        "id": "k76ElA5PwA-H"
      }
    },
    {
      "cell_type": "markdown",
      "source": [
        "Como temos percebido, quando treinamos Redes Neurais corremos o risco de fazer `OVERFITTING` aos Dados de Treinamento, o qual será traduzido é uma má performance de nosso modelo quando receba Dados que nunca haja visto (ou seja não haverá GENERALIZADO). A melhor maneira de saber se nosso modelo tem Overfitting é observando as Curvas de Treinamento (<font color=\"orange\">ver o gráfico a seguir</font>).\n",
        "\n",
        "Neste script vamos treinar uma `MLP` no Dataset [CIFAR10](https://www.cs.toronto.edu/~kriz/cifar.html) para classificação de imagens em $10$ classes diferentes."
      ],
      "metadata": {
        "id": "5H7UZmOCrNm4"
      }
    },
    {
      "cell_type": "markdown",
      "source": [
        "![](https://hidden.brutalk.com/wp-content/uploads/2021/02/1614208808_358_How-to-use-Learning-Curves-to-Diagnose-Machine-Learning-Model.png)"
      ],
      "metadata": {
        "id": "3QRyrB0aufMS"
      }
    },
    {
      "cell_type": "markdown",
      "source": [
        "Usaremos a biblioteca `torchvision` para descarregar o Dataset. \n",
        "\n",
        "Este Dataset está formado por imagens em cor de baixa resolução, temos $50000$ imagens de Treinamento e $10000$ de teste. O objetivo é classificar em $10$ classes diferentes. Vejamos alguns exemplos:"
      ],
      "metadata": {
        "id": "_I7gUU24xEza"
      }
    },
    {
      "cell_type": "code",
      "source": [
        "import torchvision\n",
        "\n",
        "trainset = torchvision.datasets.CIFAR10(root='./data', train=True, download=True)\n",
        "testset = torchvision.datasets.CIFAR10(root='./data', train=False, download=True)\n",
        "\n",
        "classes = ('plane', 'car', 'bird', 'cat', 'deer', 'dog', 'frog', 'horse', 'ship', 'truck')\n",
        "\n",
        "len(trainset), len(testset)"
      ],
      "metadata": {
        "colab": {
          "base_uri": "https://localhost:8080/",
          "height": 118,
          "referenced_widgets": [
            "27df6e5981fc44e28f1a2b65a1f8d9f9",
            "b70b42435079444b83e2d24029c54c6d",
            "538f24aa859d46d19458c7e9a1e8b12d",
            "30719c56b7444b14a9614acd6e7f81ad",
            "442f960c26d34dcbadfc47ab888bf126",
            "bc275fce6bb94c7995462cd4e9f717b7",
            "049a265447464944913ae14ea83cb740",
            "a90359c9787c462385ff9d36d7000c4e",
            "f0d6daa3799e407893ef7570123dd3e1",
            "5bae0f943e534f69b0b4f1a63e6dc4b1",
            "fbec4d8cad084f8986cdce127ff26902"
          ]
        },
        "id": "s9t7hzUhwIKb",
        "outputId": "147ffc21-4150-4105-dbbf-e372f25946c7"
      },
      "execution_count": 1,
      "outputs": [
        {
          "output_type": "stream",
          "name": "stdout",
          "text": [
            "Downloading https://www.cs.toronto.edu/~kriz/cifar-10-python.tar.gz to ./data/cifar-10-python.tar.gz\n"
          ]
        },
        {
          "output_type": "display_data",
          "data": {
            "text/plain": [
              "  0%|          | 0/170498071 [00:00<?, ?it/s]"
            ],
            "application/vnd.jupyter.widget-view+json": {
              "version_major": 2,
              "version_minor": 0,
              "model_id": "27df6e5981fc44e28f1a2b65a1f8d9f9"
            }
          },
          "metadata": {}
        },
        {
          "output_type": "stream",
          "name": "stdout",
          "text": [
            "Extracting ./data/cifar-10-python.tar.gz to ./data\n",
            "Files already downloaded and verified\n"
          ]
        },
        {
          "output_type": "execute_result",
          "data": {
            "text/plain": [
              "(50000, 10000)"
            ]
          },
          "metadata": {},
          "execution_count": 1
        }
      ]
    },
    {
      "cell_type": "code",
      "execution_count": 3,
      "metadata": {
        "colab": {
          "base_uri": "https://localhost:8080/",
          "height": 536
        },
        "id": "sysb_GyQqJad",
        "outputId": "a936b7fb-6c88-4ce5-8235-11fab5b13faa"
      },
      "outputs": [
        {
          "output_type": "display_data",
          "data": {
            "text/plain": [
              "<Figure size 1080x648 with 15 Axes>"
            ],
            "image/png": "[encoded data removed]"
          },
          "metadata": {
            "needs_background": "light"
          }
        }
      ],
      "source": [
        "import random \n",
        "import matplotlib.pyplot as plt\n",
        "%matplotlib inline\n",
        "\n",
        "r, c = 3, 5\n",
        "plt.figure(figsize=(c*3, r*3))\n",
        "for row in range(r):\n",
        "    for col in range(c):\n",
        "        index = c*row + col\n",
        "        plt.subplot(r, c, index + 1)\n",
        "        ix = random.randint(0, len(trainset)-1)\n",
        "        img, label = trainset[ix]\n",
        "        plt.imshow(img)\n",
        "        plt.axis('off')\n",
        "        plt.title(classes[label])\n",
        "plt.subplots_adjust(wspace=0.2, hspace=0.5)\n",
        "plt.show()"
      ]
    },
    {
      "cell_type": "markdown",
      "source": [
        "A seguir vamos a transformar as imagens em `arrays` de `NumPy` para poder trabalhar com elas mais facilmente."
      ],
      "metadata": {
        "id": "okOkCVery8vD"
      }
    },
    {
      "cell_type": "code",
      "source": [
        "import numpy as np\n",
        "\n",
        "\n",
        "train_images = np.array([np.array(img) for img, label in trainset])\n",
        "X_test = np.array([np.array(img) for img, label in testset])\n",
        "\n",
        "train_labels = np.array([label for img, label in trainset])\n",
        "y_test = np.array([label for img, label in testset])\n",
        "\n",
        "X_train, X_val, X_subset = train_images[:40000], train_images[40000:], train_images[:5000]\n",
        "y_train, y_val, y_subset = train_labels[:40000], train_labels[40000:], train_labels[:5000]\n",
        "\n",
        "\n",
        "X_train.shape, X_val.shape, X_test.shape, X_subset.shape"
      ],
      "metadata": {
        "colab": {
          "base_uri": "https://localhost:8080/"
        },
        "id": "Z3fZXuM-rFzA",
        "outputId": "436e1c89-2fdb-4481-bb00-ced655c1a5b3"
      },
      "execution_count": 4,
      "outputs": [
        {
          "output_type": "execute_result",
          "data": {
            "text/plain": [
              "((40000, 32, 32, 3), (10000, 32, 32, 3), (10000, 32, 32, 3), (5000, 32, 32, 3))"
            ]
          },
          "metadata": {},
          "execution_count": 4
        }
      ]
    },
    {
      "cell_type": "code",
      "source": [
        ""
      ],
      "metadata": {
        "id": "3gOIRRLZ0KIM"
      },
      "execution_count": null,
      "outputs": []
    }
  ]
}