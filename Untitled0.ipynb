{
  "nbformat": 4,
  "nbformat_minor": 0,
  "metadata": {
    "colab": {
      "name": "Untitled0.ipynb",
      "provenance": [],
      "authorship_tag": "ABX9TyOR43lC2EJQzuT5Evk0TUfq",
      "include_colab_link": true
    },
    "kernelspec": {
      "name": "python3",
      "display_name": "Python 3"
    },
    "language_info": {
      "name": "python"
    }
  },
  "cells": [
    {
      "cell_type": "markdown",
      "metadata": {
        "id": "view-in-github",
        "colab_type": "text"
      },
      "source": [
        "<a href=\"https://colab.research.google.com/github/EddyGiusepe/Overfitting_and_Regularization/blob/main/Untitled0.ipynb\" target=\"_parent\"><img src=\"https://colab.research.google.com/assets/colab-badge.svg\" alt=\"Open In Colab\"/></a>"
      ]
    },
    {
      "cell_type": "markdown",
      "source": [
        "<h2 align=\"center\">Classifying CIFAR10 images using ResNets, Regularization and Data Augmentation in PyTorch</h2>\n",
        "\n"
      ],
      "metadata": {
        "id": "8JjYRgDcSTPr"
      }
    },
    {
      "cell_type": "markdown",
      "source": [
        "Data Scientist: Dr.Eddy Giusepe Chirinos Isidro"
      ],
      "metadata": {
        "id": "JpoOwaK8SZPC"
      }
    },
    {
      "cell_type": "markdown",
      "source": [
        "# Importamos as nossas bibliotecas necessárias"
      ],
      "metadata": {
        "id": "e7eRRMGdSsVT"
      }
    },
    {
      "cell_type": "code",
      "execution_count": 1,
      "metadata": {
        "id": "QWu-B8DhSOR6"
      },
      "outputs": [],
      "source": [
        "import os\n",
        "import torch\n",
        "import torchvision\n",
        "import tarfile\n",
        "import torch.nn as nn\n",
        "import numpy as np\n",
        "import torch.nn.functional as F\n",
        "from torchvision.datasets.utils import download_url\n",
        "from torchvision.datasets import ImageFolder\n",
        "from torch.utils.data import DataLoader\n",
        "import torchvision.transforms as tt\n",
        "from torch.utils.data import random_split\n",
        "from torchvision.utils import make_grid\n",
        "import matplotlib\n",
        "\n",
        "import matplotlib.pyplot as plt\n",
        "%matplotlib inline\n",
        "\n",
        "matplotlib.rcParams['figure.facecolor'] = '#ffffff'"
      ]
    },
    {
      "cell_type": "markdown",
      "source": [
        "# Preparando o conjunto de Dados [CIFAR10](https://www.cs.toronto.edu/~kriz/cifar.html)"
      ],
      "metadata": {
        "id": "lyhjZNJYTdnT"
      }
    },
    {
      "cell_type": "markdown",
      "source": [
        "Este notebook é uma extensão da tarefa de `Classificação de imagens usando CNNs` em `PyTorch`, onde treinamos uma rede neural convolucional profunda para classificar imagens do conjunto de dados `CIFAR10` com cerca de $75\\%$ de Accuracy. Aqui estão algumas imagens do conjunto de dados:"
      ],
      "metadata": {
        "id": "rSZsz17ZTaU6"
      }
    },
    {
      "cell_type": "markdown",
      "source": [
        "![cifar10](https://miro.medium.com/max/709/1*LyV7_xga4jUHdx4_jHk1PQ.png)\n",
        "\n"
      ],
      "metadata": {
        "id": "NKbWY54kTFKN"
      }
    },
    {
      "cell_type": "markdown",
      "source": [
        "Vamos começar baixando o conjunto de Dados e criando conjuntos de dados PyTorch para carregar os dados, assim como fizemos em tutoriais passados."
      ],
      "metadata": {
        "id": "f-o0B5GwUGDL"
      }
    },
    {
      "cell_type": "code",
      "source": [
        ""
      ],
      "metadata": {
        "id": "PqXUNEinTDFq"
      },
      "execution_count": null,
      "outputs": []
    }
  ]
}